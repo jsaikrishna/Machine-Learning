{
 "cells": [
  {
   "cell_type": "markdown",
   "metadata": {},
   "source": [
    "# Boosting Homework \n",
    "***\n",
    "**Name**: Saikrishna Jaliparthy\n",
    "***\n",
    "\n",
    "This assignment is due on Moodle by **5pm on Friday April 13th**. Submit only this Jupyter notebook to Moodle.  Do not compress it using tar, rar, zip, etc. Your solutions to analysis questions should be done in Markdown directly below the associated question.  Remember that you are encouraged to discuss the problems with your instructors and classmates, but **you must write all code and solutions on your own**.  For a refresher on the course **Collaboration Policy** click [here](https://github.com/chrisketelsen/CSCI5622-Machine-Learning/blob/master/resources/syllabus.md#collaboration-policy)\n",
    "\n"
   ]
  },
  {
   "cell_type": "markdown",
   "metadata": {},
   "source": [
    "## Overview \n",
    "***\n",
    "\n",
    "\n",
    "\n",
    "In this homework you'll implement the AdaBoost classification framework to do handwritten digit recognition. Your implementation should be based on the description of AdaBoost given in the lecture slides.\n",
    "\n",
    "<br>\n",
    "\n",
    "![digits](mnist.png \"mnist data\")\n",
    "\n",
    "\n",
    "<br>\n",
    "\n",
    "Here are the rules: \n",
    "\n",
    "- Do **NOT** use sklearn's implementation of Adaboost.  You may however use sklearn's implementation of decisions trees. \n",
    "- Do **NOT** load or use any Python packages that are not available in Anaconda 3.6. \n",
    "- Some problems with code may be autograded.  If we provide a function or class API **do not** change it.\n",
    "- Do not change the location of the data or data directory.  Use only relative paths to access the data. "
   ]
  },
  {
   "cell_type": "code",
   "execution_count": 1,
   "metadata": {
    "ExecuteTime": {
     "end_time": "2018-04-02T09:58:16.624747Z",
     "start_time": "2018-04-02T09:58:15.916585Z"
    },
    "collapsed": true
   },
   "outputs": [],
   "source": [
    "import numpy as np\n",
    "from sklearn.tree import DecisionTreeClassifier\n",
    "from sklearn.base import clone \n",
    "import matplotlib.pylab as plt\n",
    "%matplotlib inline "
   ]
  },
  {
   "cell_type": "markdown",
   "metadata": {},
   "source": [
    "### [5 points] Problem 1\n",
    "***\n",
    "\n",
    "Since we'll be working with binary classifiers, we'll look at the subset of the MNIST data pertaining to handwritten three's and eights. Note that we'll also be using a lower-res version of the MNIST data used in the KNN homework. The class below will load, parse, and store the subset of the. Load the data and then report: \n",
    "\n",
    "- The number of examples in the training set \n",
    "- The number of examples in the validation set \n",
    "- The number of pixels in each image. "
   ]
  },
  {
   "cell_type": "code",
   "execution_count": 2,
   "metadata": {
    "ExecuteTime": {
     "end_time": "2018-04-02T09:58:18.840016Z",
     "start_time": "2018-04-02T09:58:18.805889Z"
    },
    "collapsed": true
   },
   "outputs": [],
   "source": [
    "class ThreesAndEights:\n",
    "    \"\"\"\n",
    "    Class to store MNIST data\n",
    "    \"\"\"\n",
    "\n",
    "    def __init__(self, location):\n",
    "\n",
    "        import pickle, gzip\n",
    "\n",
    "        # Load the dataset\n",
    "        f = gzip.open(location, 'rb')\n",
    "\n",
    "        # Split the data set \n",
    "        X_train, y_train, X_valid, y_valid = pickle.load(f)\n",
    "\n",
    "        # Extract only 3's and 8's for training set \n",
    "        self.X_train = X_train[np.logical_or( y_train==3, y_train == 8), :]\n",
    "        self.y_train = y_train[np.logical_or( y_train==3, y_train == 8)]\n",
    "        self.y_train = np.array([1 if y == 8 else -1 for y in self.y_train])\n",
    "        \n",
    "        # Shuffle the training data \n",
    "        shuff = np.arange(self.X_train.shape[0])\n",
    "        np.random.shuffle(shuff)\n",
    "        self.X_train = self.X_train[shuff,:]\n",
    "        self.y_train = self.y_train[shuff]\n",
    "\n",
    "        # Extract only 3's and 8's for validation set \n",
    "        self.X_valid = X_valid[np.logical_or( y_valid==3, y_valid == 8), :]\n",
    "        self.y_valid = y_valid[np.logical_or( y_valid==3, y_valid == 8)]\n",
    "        self.y_valid = np.array([1 if y == 8 else -1 for y in self.y_valid])\n",
    "        \n",
    "        f.close()"
   ]
  },
  {
   "cell_type": "code",
   "execution_count": 3,
   "metadata": {
    "ExecuteTime": {
     "end_time": "2018-04-02T09:58:19.740678Z",
     "start_time": "2018-04-02T09:58:19.609721Z"
    },
    "collapsed": true
   },
   "outputs": [],
   "source": [
    "data = ThreesAndEights(\"../data/mnist21x21_3789.pklz\")"
   ]
  },
  {
   "cell_type": "code",
   "execution_count": 187,
   "metadata": {},
   "outputs": [
    {
     "name": "stdout",
     "output_type": "stream",
     "text": [
      "The number of examples in the training set: 2000\n",
      "The number of examples in the validation set: 500\n",
      "The number of pixels in each image 441\n"
     ]
    }
   ],
   "source": [
    "print(\"The number of examples in the training set:\",len(data.X_train))\n",
    "print(\"The number of examples in the validation set:\",len(data.X_valid))\n",
    "print(\"The number of pixels in each image\",len(data.X_train[0]))"
   ]
  },
  {
   "cell_type": "markdown",
   "metadata": {},
   "source": [
    "### [20 points] Problem 2: Implementing AdaBoost  \n",
    "***\n",
    "\n",
    "We've given you a skeleton of the class `AdaBoost` below which will train a classifier based on boosted shallow decision trees as implemented by sklearn. Take a look at the class skeleton first so that you understand the underlying organization and data structures that we'll be using.  "
   ]
  },
  {
   "cell_type": "code",
   "execution_count": 244,
   "metadata": {
    "ExecuteTime": {
     "end_time": "2018-04-02T09:58:23.101470Z",
     "start_time": "2018-04-02T09:58:23.016833Z"
    },
    "collapsed": true
   },
   "outputs": [],
   "source": [
    "class AdaBoost:\n",
    "    def __init__(self, n_learners=20, base=DecisionTreeClassifier(max_depth=1), random_state=1234):\n",
    "        \"\"\"\n",
    "        Create a new adaboost classifier.\n",
    "        \n",
    "        Args:\n",
    "            N (int, optional): Number of weak learners in classifier.\n",
    "            base (BaseEstimator, optional): Your general weak learner \n",
    "            random_state (int, optional): set random generator.  needed for unit testing. \n",
    "\n",
    "        Attributes:\n",
    "            base (estimator): Your general weak learner \n",
    "            n_learners (int): Number of weak learners in classifier.\n",
    "            alpha (ndarray): Coefficients on weak learners. \n",
    "            learners (list): List of weak learner instances. \n",
    "        \"\"\"\n",
    "        \n",
    "        np.random.seed(random_state)\n",
    "        self.n_learners = n_learners \n",
    "        self.base = base\n",
    "        self.alpha = np.zeros(self.n_learners)\n",
    "        self.learners = []\n",
    "        \n",
    "    def fit(self, X_train, y_train):\n",
    "        \"\"\"\n",
    "        Train AdaBoost classifier on data. Sets alphas and learners. \n",
    "        \n",
    "        Args:\n",
    "            X_train (ndarray): [n_samples x n_features] ndarray of training data   \n",
    "            y_train (ndarray): [n_samples] ndarray of data \n",
    "        \"\"\"\n",
    "        \n",
    "        # TODO \n",
    "\n",
    "        # Note: You can create and train a new instantiation \n",
    "        # of your sklearn decision tree as follows \n",
    "        \n",
    "        \n",
    "        length=len(y_train)\n",
    "        w=np.ones(length)\n",
    "        w.fill(1/length)\n",
    "        #h = clone(self.base)\n",
    "        #train_o=[np.zeros(len(X_train))]\n",
    "        for k in range((self.n_learners)):\n",
    "            h = clone(self.base)\n",
    "            p=0\n",
    "            h.fit(X_train, y_train, sample_weight=w)\n",
    "            train_o=h.predict(X_train)\n",
    "            for x1 in range(len(train_o)):\n",
    "                if y_train[x1]!=train_o[x1]:\n",
    "                    p+=w[x1]\n",
    "            err_k=p / sum(w)\n",
    "            \n",
    "            self.alpha[k]=0.5*np.log((1-err_k)/(err_k))\n",
    "            \n",
    "            for i in range(len(w)):    \n",
    "                mul=y_train[i]*train_o[i]\n",
    "                w[i]=w[i]*np.exp(-1*self.alpha[k]*mul)\n",
    "            self.learners.append(h)\n",
    "            \n",
    "            \n",
    "    def predict(self, X):\n",
    "        \"\"\"\n",
    "        Adaboost prediction for new data X.\n",
    "        \n",
    "        Args:\n",
    "            X (ndarray): [n_samples x n_features] ndarray of data \n",
    "            \n",
    "        Returns: \n",
    "            yhat (ndarray): [n_samples] ndarray of predicted labels {-1,1}\n",
    "        \"\"\"\n",
    "\n",
    "        # TODO \n",
    "\n",
    "        pred=np.zeros(X.shape[0])\n",
    "        for k in range((self.n_learners)):\n",
    "            h=self.learners[k]\n",
    "            x3=h.predict(X)\n",
    "            y=x3 * self.alpha[k]\n",
    "            pred+=y\n",
    "        \n",
    "        pred_a=1./(1+np.exp(-1*pred))\n",
    "        pred_f=np.zeros(len(pred_a))\n",
    "        \n",
    "        for z in range(len(pred_a)):\n",
    "            if pred_a[z]>0.5:\n",
    "                pred_f[z]=1\n",
    "            else:\n",
    "                pred_f[z]=-1\n",
    "            \n",
    "        return pred_f\n",
    "\n",
    "    \n",
    "    def score(self, X, y):\n",
    "        \"\"\"\n",
    "        Computes prediction accuracy of classifier.  \n",
    "        \n",
    "        Args:\n",
    "            X (ndarray): [n_samples x n_features] ndarray of data \n",
    "            y (ndarray): [n_samples] ndarray of true labels  \n",
    "            \n",
    "        Returns: \n",
    "            Prediction accuracy (between 0.0 and 1.0).\n",
    "        \"\"\"\n",
    "        # TODO \n",
    "        \n",
    "        frompredict=self.predict(X)\n",
    "        accuracy=0\n",
    "        k=range(len(X))\n",
    "        for j in k:\n",
    "            if frompredict[j]==y[j]:\n",
    "                accuracy+=1\n",
    "        \n",
    "        return accuracy/len(X)\n",
    "            \n",
    "        \n",
    "    \n",
    "    def staged_score(self, X, y):\n",
    "        \"\"\"\n",
    "        Computes the ensemble score after each iteration of boosting \n",
    "        for monitoring purposes, such as to determine the score on a \n",
    "        test set after each boost.\n",
    "        \n",
    "        Args:\n",
    "            X (ndarray): [n_samples x n_features] ndarray of data \n",
    "            y (ndarray): [n_samples] ndarray of true labels  \n",
    "            \n",
    "        Returns: \n",
    "            scores (ndarary): [n_learners] ndarray of scores \n",
    "        \"\"\"\n",
    "\n",
    "        # TODO \n",
    "        \n",
    "        f=np.zeros((self.n_learners))\n",
    "        pred=np.zeros(X.shape[0])\n",
    "        acc=[]\n",
    "        for k in range((self.n_learners)):\n",
    "            h1=self.learners[k]\n",
    "            x3=h1.predict(X)\n",
    "            x4=x3 * self.alpha[k]\n",
    "            pred+=x4\n",
    "        \n",
    "            pred_a=1./(1+np.exp(-1*pred))\n",
    "            pred_f=np.zeros(len(pred_a))\n",
    "        \n",
    "            for z in range(len(pred_a)):\n",
    "                if pred_a[z]>0.5:\n",
    "                    pred_f[z]=1\n",
    "                else:\n",
    "                    pred_f[z]=-1\n",
    "            \n",
    "            wx=range(len(X))\n",
    "            for qw in wx:\n",
    "                if pred_f[qw]==y[qw]:\n",
    "                    f[k]+=1\n",
    "        \n",
    "        acc=f/len(X)\n",
    "        return acc\n",
    "\n",
    "    \n",
    "    def staged_margin(self, x, y):\n",
    "        \"\"\"\n",
    "        Computes the staged margin after each iteration of boosting \n",
    "        for a single training example x and true label y\n",
    "        \n",
    "        Args:\n",
    "            x (ndarray): [n_features] ndarray of data \n",
    "            y (integer): an integer {-1,1} representing the true label of x \n",
    "            \n",
    "        Returns: \n",
    "            margins (ndarary): [n_learners] ndarray of margins \n",
    "        \"\"\"\n",
    "        \n",
    "        \n",
    "        # TODO\n",
    "        \n",
    "        margin=np.zeros(self.n_learners)\n",
    "        alpha_normalize=self.alpha/sum(self.alpha)\n",
    "        \n",
    "        for nn in range(self.n_learners):\n",
    "            meq=0\n",
    "            mneq=0\n",
    "            for lk in range(nn+1):\n",
    "                hnn=self.learners[lk]\n",
    "                tt=hnn.predict([x])\n",
    "                \n",
    "                if tt==y:\n",
    "                    meq+=alpha_normalize[lk]\n",
    "                else:\n",
    "                    mneq+=alpha_normalize[lk]\n",
    "            \n",
    "            margin[nn]=meq-mneq\n",
    "        \n",
    "        return margin"
   ]
  },
  {
   "cell_type": "markdown",
   "metadata": {},
   "source": [
    "Recall that the model we attempt to learn in AdaBoost is given by \n",
    "\n",
    "$$\n",
    "H({\\bf x}) = \\textrm{sign}\\left[\\displaystyle\\sum_{k=1}^K\\alpha_k h_k({\\bf x}) \\right]\n",
    "$$\n",
    "\n",
    "where $h_k({\\bf x})$ is the $k^\\textrm{th}$ weak learner and $\\alpha_k$ is it's associated ensemble coefficient.  \n",
    "\n",
    "**Part A**: Implement the `fit` method to learn the sequence of weak learners $\\left\\{h_k({\\bf x})\\right\\}_{k=1}^K$ and corresponding coefficients $\\left\\{ \\alpha_k\\right\\}_{k=1}^K$. Note that you may use sklearn's implementation of DecisionTreeClassifier as your weak learner which allows you to pass as an optional parameter the weights associated with each training example.  An example of instantiating and training a single learner is given in the comments of the `fit` method.  \n",
    "\n",
    "When you think you're done, run the following unit tests which corresponds to the AdaBoost example given in the lecture slides. \n"
   ]
  },
  {
   "cell_type": "code",
   "execution_count": 249,
   "metadata": {
    "ExecuteTime": {
     "end_time": "2018-04-02T09:58:25.957948Z",
     "start_time": "2018-04-02T09:58:25.948471Z"
    }
   },
   "outputs": [
    {
     "name": "stderr",
     "output_type": "stream",
     "text": [
      "test_alphas (__main__.TestBoost) ... ok\n",
      "\n",
      "----------------------------------------------------------------------\n",
      "Ran 1 test in 0.014s\n",
      "\n",
      "OK\n"
     ]
    }
   ],
   "source": [
    "%run -i tests.py \"part A\""
   ]
  },
  {
   "cell_type": "markdown",
   "metadata": {},
   "source": [
    "**Part B**: After your `fit` method is working properly, implement the `predict` method to make predictions for unseen examples stored in a data matrix ${\\bf X}$.  \n",
    "\n",
    "**Note**: Remember that AdaBoost assumes that your predictions are of the form $y \\in \\{-1, 1\\}$. \n",
    "\n",
    "When you think you're done, run the following unit tests which corresponds to the AdaBoost example given in the lecture slides. "
   ]
  },
  {
   "cell_type": "code",
   "execution_count": 250,
   "metadata": {
    "ExecuteTime": {
     "end_time": "2018-04-02T09:58:29.697855Z",
     "start_time": "2018-04-02T09:58:29.689876Z"
    }
   },
   "outputs": [
    {
     "name": "stderr",
     "output_type": "stream",
     "text": [
      "test_prediction (__main__.TestBoost) ... ok\n",
      "\n",
      "----------------------------------------------------------------------\n",
      "Ran 1 test in 0.008s\n",
      "\n",
      "OK\n"
     ]
    }
   ],
   "source": [
    "%run -i tests.py \"part B\""
   ]
  },
  {
   "cell_type": "markdown",
   "metadata": {},
   "source": [
    "**Part C**: Next, implement the `score` method which takes in a matrix of examples ${\\bf X}$ and their associated true labels ${\\bf y}$, makes predictions, and returns the classification accuracy.   \n",
    "\n",
    "When you think you're done, run the following unit tests. "
   ]
  },
  {
   "cell_type": "code",
   "execution_count": 251,
   "metadata": {
    "ExecuteTime": {
     "end_time": "2018-04-02T09:58:32.327702Z",
     "start_time": "2018-04-02T09:58:32.320424Z"
    }
   },
   "outputs": [
    {
     "name": "stderr",
     "output_type": "stream",
     "text": [
      "test_score (__main__.TestBoost) ... ok\n",
      "\n",
      "----------------------------------------------------------------------\n",
      "Ran 1 test in 0.010s\n",
      "\n",
      "OK\n"
     ]
    }
   ],
   "source": [
    "%run -i tests.py \"part C\""
   ]
  },
  {
   "cell_type": "markdown",
   "metadata": {},
   "source": [
    "**Part D**: Finally, implement the `staged_score` method to return an array of prediction accuracies after each iteration of the AdaBoost algorithm.  That is, the staged score array ${\\bf s}$ is defined such that ${\\bf s}_\\ell$ is the prediction accuracy using only the first $\\ell$ weak learners.  This function is primarily used as a diagnostic tool for analyzing the performance of your classifier during the training process.  \n",
    "\n",
    "**Note**: This method can be implemented in a very efficient or very **in**efficient matter.  Be sure to think about this a bit before diving in. \n",
    "\n",
    "\n",
    "When you think you're done, run the following unit tests. "
   ]
  },
  {
   "cell_type": "code",
   "execution_count": 248,
   "metadata": {
    "ExecuteTime": {
     "end_time": "2018-04-02T09:58:36.952096Z",
     "start_time": "2018-04-02T09:58:36.944919Z"
    }
   },
   "outputs": [
    {
     "name": "stderr",
     "output_type": "stream",
     "text": [
      "test_staged_score (__main__.TestBoost) ... ok\n",
      "\n",
      "----------------------------------------------------------------------\n",
      "Ran 1 test in 0.009s\n",
      "\n",
      "OK\n"
     ]
    }
   ],
   "source": [
    "%run -i tests.py \"part D\""
   ]
  },
  {
   "cell_type": "markdown",
   "metadata": {},
   "source": [
    "### [10 points] Problem 3: AdaBoost for Handwritten Digit Recognition \n",
    "***\n",
    "\n",
    "Use your AdaBoost code with Sklearn's DecisionTreeClassifier as the base learner to distinguish $3$'s from $8$'s. \n",
    "Run $n=500$ boosting iterations with trees of depths 1, 2, and 3 (go deeper if you like) as the weak learner. For each weak learner, plot the training and validation error per boosting iteration (on the same set of axes). Compare and contrast the different weak learners. Which works the best? Do you see signs of overfitting? Do any of classifiers achieve nearly 100% accuracy on the training data? What happens to the accuracy on the validation data on further iterations?"
   ]
  },
  {
   "cell_type": "code",
   "execution_count": 221,
   "metadata": {},
   "outputs": [
    {
     "data": {
      "image/png": "[encoded data removed]",
      "text/plain": [
       "<Figure size 432x288 with 1 Axes>"
      ]
     },
     "metadata": {},
     "output_type": "display_data"
    }
   ],
   "source": [
    "ad=AdaBoost(n_learners=500,base=DecisionTreeClassifier(max_depth=1),random_state=1234)\n",
    "ad.fit(data.X_train,data.y_train)\n",
    "tr_err1=ad.staged_score(data.X_train,data.y_train)\n",
    "te_err1=ad.staged_score(data.X_valid,data.y_valid)\n",
    "\n",
    "plt.plot(np.arange(500),1-tr_err1,'c',label='Train Error')\n",
    "plt.plot(np.arange(500),1-te_err1,'r',label='Test Error')\n",
    "plt.legend()\n",
    "plt.title(\"Error Vs No of Iterations When Max Depth=1\")\n",
    "plt.xlabel('No of Iterations')\n",
    "plt.ylabel('Error')\n",
    "plt.show()"
   ]
  },
  {
   "cell_type": "code",
   "execution_count": 223,
   "metadata": {},
   "outputs": [
    {
     "data": {
      "image/png": "[encoded data removed]",
      "text/plain": [
       "<Figure size 432x288 with 1 Axes>"
      ]
     },
     "metadata": {},
     "output_type": "display_data"
    }
   ],
   "source": [
    "ad=AdaBoost(n_learners=500,base=DecisionTreeClassifier(max_depth=2),random_state=1234)\n",
    "ad.fit(data.X_train,data.y_train)\n",
    "tr_err2=ad.staged_score(data.X_train,data.y_train)\n",
    "te_err2=ad.staged_score(data.X_valid,data.y_valid)\n",
    "\n",
    "plt.plot(np.arange(500),1-tr_err2,'c',label='Train Error')\n",
    "plt.plot(np.arange(500),1-te_err2,'r',label='Test Error')\n",
    "plt.legend()\n",
    "plt.title(\"Error Vs No of Iterations When Max Depth=2\")\n",
    "plt.xlabel('No of Iterations')\n",
    "plt.ylabel('Error')\n",
    "plt.show()"
   ]
  },
  {
   "cell_type": "code",
   "execution_count": 224,
   "metadata": {},
   "outputs": [
    {
     "data": {
      "image/png": "[encoded data removed]",
      "text/plain": [
       "<Figure size 432x288 with 1 Axes>"
      ]
     },
     "metadata": {},
     "output_type": "display_data"
    }
   ],
   "source": [
    "ad=AdaBoost(n_learners=500,base=DecisionTreeClassifier(max_depth=3),random_state=1234)\n",
    "ad.fit(data.X_train,data.y_train)\n",
    "tr_err3=ad.staged_score(data.X_train,data.y_train)\n",
    "te_err3=ad.staged_score(data.X_valid,data.y_valid)\n",
    "\n",
    "plt.plot(np.arange(500),1-tr_err3,'c',label='Train Error')\n",
    "plt.plot(np.arange(500),1-te_err3,'r',label='Test Error')\n",
    "plt.legend()\n",
    "plt.title(\"Error Vs No of Iterations When Max Depth=3\")\n",
    "plt.xlabel('No of Iterations')\n",
    "plt.ylabel('Error')\n",
    "plt.show()"
   ]
  },
  {
   "cell_type": "markdown",
   "metadata": {
    "collapsed": true
   },
   "source": [
    "When we compared the three graphs of error vs number of iterations for different depths. When we consider the graph with max depth 1 training error decreases continously until iteration 200 and starts saturation to nearly zero from iteration 200 and after that from iteration 300 it's more or less become constant. when we consider the validation error was about from 0.04 to 0.06 at from iterations 100 to 500 before the iteration 100 validation error was continously decreasing..\n",
    "\n",
    "When we compared the three graphs of error vs number of iterations for different depths. When we consider the graph with max depth 2 training error decreases contiously until iteration 20 and starts saturation to nearly zero from iteration 20 and after that it more or less become constant after that. when we consider the validation error was about from 0.02 to 0.04 at from iterations 50 to 500 before the iteration 50 validation error was continously decreasing.\n",
    "\n",
    "When we compared the three graphs of error vs number of iterations for different depths. When we consider the graph with max depth 3 training error decreases contiously until iteration 10 and starts saturation to nearly zero from iteration 10 and after that it more or less become constant after that. when we consider the validation error was about from 0.02 to 0.03 at from iterations 50 to 500 before the iteration 50 validation error was continously decreasing.\n",
    "\n",
    "So, when we consider the total three graphs. The graph with max depth 3 works best when we consider the training error and testing error as the number of iterations increases.\n",
    "\n",
    "I don't see any signs of overfiiting in the graphs because when we consider the difference of error rates between training and validation error is very minute i.e in max depth 1 the error differnece is about 0.04, at max-depth 2 the error differnce is about 0.03 and at max-depth 3 the error difference is about the 0.02.\n",
    "\n",
    "The classifier with the max depth 3 achieve 100% of training accuracy start from early iterations(i.e 10) and the accuracy on validation error has some sort of small up's and downs but the error is about 0.02.\n",
    "The classifier with the max depth 2 achieve 100% of training accuracy start from early iterations(i.e 20) and the validation error decreases from 0.04 to 0.02 with little jitters in the variation.\n",
    "The classifier with the max depth 1 achieve 100% of training accuracy start from iterations(i.e 250) and the validation error for further iterations is vary between 0.06 to 0.05 with some frequent ups and downs"
   ]
  },
  {
   "cell_type": "markdown",
   "metadata": {},
   "source": [
    "### [15 points] Problem 4: AdaBoost as a Margin-Maximizing Model \n",
    "***\n",
    "\n",
    "Despite the fact that we're making our model more complex with the addition of each weak learner, AdaBoost does not typically overfit the training data. The reason for this is that the model becomes more _confident_ with each boosting iteration. This _confidence_ can be interpreted mathematically as a margin. Recall that after $K$ iterations the algorithm terminates with the classifier \n",
    "\n",
    "$$\n",
    "H({\\bf x}) = \\textrm{sign}\\left[\\displaystyle\\sum_{k=1}^K\\alpha_k h_k({\\bf x}) \\right]\n",
    "$$\n",
    "\n",
    "Similarly, we can define the intermediate classifier $H_\\ell$ by \n",
    "\n",
    "$$\n",
    "H_\\ell({\\bf x}) = \\textrm{sign}\\left[\\displaystyle\\sum_{k=1}^\\ell\\alpha_k h_k({\\bf x}) \\right]\n",
    "$$\n",
    "\n",
    "where $\\ell \\leq K$. Note that in either case the model returns predictions of the form $y \\in \\{-1, 1\\}$ which does not give us any indication of the model's confidence in a prediction. Define the normalized coefficients $\\hat{\\alpha}_k$ as follows: \n",
    "\n",
    "$$\n",
    "\\hat{\\alpha}_k = \\dfrac{\\alpha_k}{\\sum_{t=1}^K \\alpha_k}\n",
    "$$\n",
    "\n",
    "Define the margin of a training example ${\\bf x}$ after $\\ell$ iterations as the sum of the normalized coefficients of weak learners that vote correctly minus the sum of the normalized coefficients of the weak learners that vote incorrectly: \n",
    "\n",
    "$$\n",
    "\\textrm{margin}_\\ell ({\\bf x}) = \\sum_{k=1:~h_k({\\bf x}) = y}^\\ell \\hat{\\alpha}_k - \\sum_{k=1:~h_k({\\bf x}) \\neq y}^\\ell \\hat{\\alpha}_k \n",
    "$$\n",
    "\n",
    "**Part A**: Briefly explain mathematically how $\\textrm{margin}_\\ell({\\bf x})$ can be interpreted as a margin.  **Hint**: You'll want to think back on what we meant by a _margin_ in our discussion of Support Vector Machines. "
   ]
  },
  {
   "cell_type": "markdown",
   "metadata": {
    "collapsed": true
   },
   "source": [
    "**Answer**\n",
    "\n",
    "When we look over the margin equation above we can say that it is depend on the alpha normalize value which will again depend on the alpha values. So when the $h_k({\\bf x}) = y$ it means that the it is classifiying correctly opposite is it is classifying wrongly. So more the classifying correctly more will the margin value and more will the confidence and more will be the alpha normlaize values.\n",
    "\n",
    "So with high confidence the ($\\textrm{margin}_\\ell({\\bf x})$) will be more typically greater than 0 (When we consider the svm sense more margin and high confidence is the point is classified correctly and the distance between decision boundary and the point is more).\n",
    "\n",
    "With less confidence ($\\textrm{margin}_\\ell({\\bf x})$) can be nearly around 0. Here the data will be classified correctly with less confidence. (In SVM Sense the distance between the point and decison boundary is less) \n",
    "\n",
    "If the margin ($\\textrm{margin}_\\ell({\\bf x})$) becomes negative means the given data is wrongly classified (In SVM sense the point is farther away and it is incorretly classified).\n"
   ]
  },
  {
   "cell_type": "markdown",
   "metadata": {},
   "source": [
    "**Part B**: Complete the `staged_margin` method in the `AdaBoost` class above so that it computes the margin for a single training example ${\\bf x}$ after each boosting iteration. "
   ]
  },
  {
   "cell_type": "code",
   "execution_count": 233,
   "metadata": {},
   "outputs": [],
   "source": [
    "ad=AdaBoost(n_learners=200, base=DecisionTreeClassifier(max_depth=1), random_state=1234)\n",
    "ad.fit(data.X_train,data.y_train)\n",
    "margin_value=ad.staged_margin(data.X_train[0],data.y_train[0])\n",
    "#print(len(margin_value))\n",
    "#print(margin_value)"
   ]
  },
  {
   "cell_type": "markdown",
   "metadata": {},
   "source": [
    "**Part C**: Find four **training** examples from the MNIST that meet the following criteria: \n",
    "\n",
    "- one $3$ that AdaBoost can classify easily  \n",
    "- one $8$ that AdaBoost can classify easily  \n",
    "- one $3$ that AdaBoost has difficulty with \n",
    "- one $8$ that AdaBoost has difficulty with \n",
    "\n",
    "Use the `view_digit` function given below to display the four examples that you found. \n",
    "\n",
    "**Advice**: Since AdaBoost will likely classify **all** training examples correctly given enough boosting iterations, you might try fitting an AdaBoost classifier with just a handful of boosting iterations and use it to identify examples of each desired type. "
   ]
  },
  {
   "cell_type": "code",
   "execution_count": 138,
   "metadata": {
    "ExecuteTime": {
     "end_time": "2018-04-02T09:59:01.257421Z",
     "start_time": "2018-04-02T09:59:01.068539Z"
    }
   },
   "outputs": [
    {
     "name": "stdout",
     "output_type": "stream",
     "text": [
      "true label: -1\n"
     ]
    },
    {
     "data": {
      "image/png": "[encoded data removed]",
      "text/plain": [
       "<Figure size 432x288 with 1 Axes>"
      ]
     },
     "metadata": {},
     "output_type": "display_data"
    }
   ],
   "source": [
    "def view_digit(example, label=None):\n",
    "    if label: print(\"true label: {:d}\".format(label))\n",
    "    plt.imshow(example.reshape(21,21), cmap='gray');\n",
    "view_digit(data.X_train[0,:], data.y_train[0])"
   ]
  },
  {
   "cell_type": "code",
   "execution_count": 208,
   "metadata": {},
   "outputs": [
    {
     "name": "stdout",
     "output_type": "stream",
     "text": [
      "Three classify easily:  (0.45425851914617116, 678)\n",
      "Eight classify easily:  (0.35109654062757545, 342)\n",
      "Three difficulty with:  (-0.01390363992477156, 699)\n",
      "Eight difficulty with:  (-0.004716887553258997, 194)\n"
     ]
    }
   ],
   "source": [
    "eightclassify=[] \n",
    "threeclassify=[]\n",
    "\n",
    "for itr in range(len(data.y_train)):\n",
    "    if data.y_train[itr]==1:\n",
    "        margineight=ad.staged_margin(data.X_train[itr],data.y_train[itr])[-1]\n",
    "        eightclassify.append((margineight,itr))\n",
    "    else:\n",
    "        marginthree=ad.staged_margin(data.X_train[itr],data.y_train[itr])[-1]\n",
    "        threeclassify.append((marginthree,itr))\n",
    "        \n",
    "eightclassify=sorted(eightclassify, key=lambda x: x[0])\n",
    "threeclassify=sorted(threeclassify, key=lambda y: y[0])\n",
    "\n",
    "print(\"Three classify easily: \",threeclassify[-1])\n",
    "print(\"Eight classify easily: \",eightclassify[-1])\n",
    "print(\"Three difficulty with: \",threeclassify[0])\n",
    "print(\"Eight difficulty with: \",eightclassify[0])\n"
   ]
  },
  {
   "cell_type": "code",
   "execution_count": 234,
   "metadata": {},
   "outputs": [
    {
     "name": "stdout",
     "output_type": "stream",
     "text": [
      "Three classify easily: \n",
      "true label: -1\n"
     ]
    },
    {
     "data": {
      "image/png": "[encoded data removed]",
      "text/plain": [
       "<Figure size 432x288 with 1 Axes>"
      ]
     },
     "metadata": {},
     "output_type": "display_data"
    }
   ],
   "source": [
    "print(\"Three classify easily: \")\n",
    "view_digit(data.X_train[678,:], data.y_train[678])"
   ]
  },
  {
   "cell_type": "code",
   "execution_count": 235,
   "metadata": {},
   "outputs": [
    {
     "name": "stdout",
     "output_type": "stream",
     "text": [
      "Eight classify easily: \n",
      "true label: 1\n"
     ]
    },
    {
     "data": {
      "image/png": "[encoded data removed]",
      "text/plain": [
       "<Figure size 432x288 with 1 Axes>"
      ]
     },
     "metadata": {},
     "output_type": "display_data"
    }
   ],
   "source": [
    "print(\"Eight classify easily: \")\n",
    "view_digit(data.X_train[342,:], data.y_train[342])"
   ]
  },
  {
   "cell_type": "code",
   "execution_count": 236,
   "metadata": {},
   "outputs": [
    {
     "name": "stdout",
     "output_type": "stream",
     "text": [
      "Three difficulty with: \n",
      "true label: -1\n"
     ]
    },
    {
     "data": {
      "image/png": "[encoded data removed]",
      "text/plain": [
       "<Figure size 432x288 with 1 Axes>"
      ]
     },
     "metadata": {},
     "output_type": "display_data"
    }
   ],
   "source": [
    "print(\"Three difficulty with: \")\n",
    "view_digit(data.X_train[699,:], data.y_train[699])"
   ]
  },
  {
   "cell_type": "code",
   "execution_count": 237,
   "metadata": {},
   "outputs": [
    {
     "name": "stdout",
     "output_type": "stream",
     "text": [
      "Eight difficulty with: \n",
      "true label: 1\n"
     ]
    },
    {
     "data": {
      "image/png": "[encoded data removed]",
      "text/plain": [
       "<Figure size 432x288 with 1 Axes>"
      ]
     },
     "metadata": {},
     "output_type": "display_data"
    }
   ],
   "source": [
    "print(\"Eight difficulty with: \")\n",
    "view_digit(data.X_train[194,:], data.y_train[194])"
   ]
  },
  {
   "cell_type": "markdown",
   "metadata": {},
   "source": [
    "**Part D**: Using an AdaBoost classifier with at least $K=200$ depth-1 decision trees as the weak learners, plot the staged margin for each of the four examples that you found in **Part C** on the same set of axes. (Be sure to include a legend so we can tell which staged margin corresponds to which example).  Explain your results in terms of the margin of the classifier on each training examples.  More broadly, how the margin-maximizing property might allow AdaBoost to continue improving generalization even after the error on the training set reaches zero.  \n"
   ]
  },
  {
   "cell_type": "code",
   "execution_count": 238,
   "metadata": {},
   "outputs": [
    {
     "data": {
      "image/png": "[encoded data removed]",
      "text/plain": [
       "<Figure size 432x288 with 1 Axes>"
      ]
     },
     "metadata": {},
     "output_type": "display_data"
    }
   ],
   "source": [
    "tec=ad.staged_margin(data.X_train[678],data.y_train[678])\n",
    "ecc=ad.staged_margin(data.X_train[342],data.y_train[342])\n",
    "tdc=ad.staged_margin(data.X_train[699],data.y_train[699])\n",
    "edc=ad.staged_margin(data.X_train[194],data.y_train[194])\n",
    "\n",
    "\n",
    "plt.plot(np.arange(200),tec,'b',label='Three Classsify easily')\n",
    "plt.plot(np.arange(200),ecc,'r',label='Eight Classify easily')\n",
    "plt.plot(np.arange(200),tdc,'c',label='Three Difficulty')\n",
    "plt.plot(np.arange(200),edc,'g',label='Eight Difficulty')\n",
    "plt.xlabel(\"Iterations\")\n",
    "plt.ylabel(\"Staged Margin\")\n",
    "plt.title(\"Staged Margin vs Iterations\")\n",
    "plt.legend()\n",
    "plt.show()"
   ]
  },
  {
   "cell_type": "markdown",
   "metadata": {},
   "source": [
    "When we consider the above graph of Staged margin vs Iterations when we consider the three classify easily graph the staged margin increases from 0.1 and when we consider the eight classify easily graph the staged margin increases from 0.12 but the rate in which it increases was less when we conider the three classify easily graph\n",
    "\n",
    "When we consider the above graph of Staged margin vs iterations When we consider the three difficulty graph start from neagtive side about from -0.03 then it little bit decreases and then it starts increasing. When we consider the eight difficulty graph it starts from positiev and then starts decreaisng and nearly at 200 iterations the staged margin is neagtive which is nearly to zero. When we observe the change in the both three difficulty and eight difficulty graphs it is nearly same.\n",
    "\n",
    "When we get the positive margin it means that all the training examples are classifying correctly so the training error become zero. So, even when the training error becomes zero the adaboost will continue to evolve by continously it will try to do with the same base learners. So as even training error becomes zero adaboost continues to evolve by improving generalization.So we can conclude that by margin maximizing property adaboost will continue to improve the generalization even after the error on the training set reaches zero."
   ]
  },
  {
   "cell_type": "code",
   "execution_count": null,
   "metadata": {
    "collapsed": true
   },
   "outputs": [],
   "source": []
  }
 ],
 "metadata": {
  "kernelspec": {
   "display_name": "Python 3",
   "language": "python",
   "name": "python3"
  },
  "language_info": {
   "codemirror_mode": {
    "name": "ipython",
    "version": 3
   },
   "file_extension": ".py",
   "mimetype": "text/x-python",
   "name": "python",
   "nbconvert_exporter": "python",
   "pygments_lexer": "ipython3",
   "version": "3.6.3"
  }
 },
 "nbformat": 4,
 "nbformat_minor": 2
}
