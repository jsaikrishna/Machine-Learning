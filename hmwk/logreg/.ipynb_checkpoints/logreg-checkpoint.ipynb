{
 "cells": [
  {
   "cell_type": "markdown",
   "metadata": {},
   "source": [
    "# Logistic Regression and SGD Homework \n",
    "***\n",
    "**Name**: Saikrishna Jaliparthy \n",
    "***\n",
    "\n",
    "This assignment is due on Moodle by **5pm on Friday February 9th**. Submit only this Jupyter notebook to Moodle.  Do not compress it using tar, rar, zip, etc. Your solutions to analysis questions should be done in Markdown directly below the associated question.  Remember that you are encouraged to discuss the problems with your instructors and classmates, but **you must write all code and solutions on your own**.  For a refresher on the course **Collaboration Policy** click [here](https://github.com/chrisketelsen/CSCI5622-Machine-Learning/blob/master/resources/syllabus.md#collaboration-policy)\n",
    "\n"
   ]
  },
  {
   "cell_type": "markdown",
   "metadata": {},
   "source": [
    "## Overview \n",
    "***\n",
    "\n",
    "\n",
    "In this homework you'll implement stochastic gradient ascent for logistic regression and you'll apply it to the task of determining whether documents are talking about automobiles or motorcycles.\n",
    "\n",
    "<br>\n",
    "\n",
    "![autos_motorcycles](autos_motorcycles.jpg \"A car and a motorcycle\")\n",
    "\n",
    "\n",
    "<br>\n",
    "\n",
    "You should not use any libraries that implement any of the functionality of logistic regression for this assignment; logistic regression is implemented in Scikit-Learn, but you should do everything by hand now. You'll be able to use library implementations of logistic regression in the future.\n",
    "\n",
    "Here are the rules: \n",
    "\n",
    "- Do **NOT** load or use any Python packages that are not available in Anaconda 3.6. \n",
    "- Some problems with code may be autograded.  If we provide a function or class API **do not** change it.\n",
    "- Do not change the location of the data or data directory.  Use only relative paths to access the data. "
   ]
  },
  {
   "cell_type": "code",
   "execution_count": 84,
   "metadata": {
    "collapsed": true
   },
   "outputs": [],
   "source": [
    "import numpy as np\n",
    "import matplotlib.pylab as plt\n",
    "%matplotlib inline"
   ]
  },
  {
   "cell_type": "markdown",
   "metadata": {},
   "source": [
    "### [5 points] Problem 1: Loading and Exploring the Data\n",
    "***\n",
    "\n",
    "The `Example` class will be used to store the features and labels associated with a single training or test example.  The `read_data` function will read in the text data and split it into training and test sets.  \n",
    "\n",
    " Load the data and then do the following: \n",
    "- Report the number of words in the vocabulary \n",
    "- Explain how the code is creating features (i.e. what text model is being used). \n",
    "- Go into the raw text files in the data directory and figure out which label (0/1) refers to which class of document (automobiles or motorcycles)"
   ]
  },
  {
   "cell_type": "code",
   "execution_count": 2,
   "metadata": {
    "collapsed": true
   },
   "outputs": [],
   "source": [
    "kSEED = 1735\n",
    "kBIAS = \"BIAS_CONSTANT\"\n",
    "\n",
    "np.random.seed(kSEED)\n",
    "\n",
    "class Example:\n",
    "    \"\"\"\n",
    "    Class to represent a document example\n",
    "    \"\"\"\n",
    "    def __init__(self, label, words, vocab):\n",
    "        \"\"\"\n",
    "        Create a new example\n",
    "\n",
    "        :param label: The label (0 / 1) of the example\n",
    "        :param words: The words in a list of \"word:count\" format\n",
    "        :param vocab: The vocabulary to use as features (list)\n",
    "        \"\"\"\n",
    "        self.nonzero = {}\n",
    "        self.y = label\n",
    "        self.x = np.zeros(len(vocab))\n",
    "        for word, count in [x.split(\":\") for x in words]:\n",
    "            if word in vocab:\n",
    "                assert word != kBIAS, \"Bias can't actually appear in document\"\n",
    "                self.x[vocab.index(word)] += float(count)\n",
    "                self.nonzero[vocab.index(word)] = word\n",
    "        self.x[0] = 1\n",
    "\n",
    "def read_dataset(positive, negative, vocab, train_frac=0.9):\n",
    "    \"\"\"\n",
    "    Reads in a text dataset with a given vocabulary\n",
    "\n",
    "    :param positive: Positive examples\n",
    "    :param negative: Negative examples\n",
    "    :param vocab: A list of vocabulary words\n",
    "    :param test_frac: How much of the data should be reserved for test\n",
    "    \"\"\"\n",
    "\n",
    "    vocab = [x.split(\"\\t\")[0] for x in open(vocab, 'r') if '\\t' in x]\n",
    "    assert vocab[0] == kBIAS, \\\n",
    "        \"First vocab word must be bias term (was %s)\" % vocab[0]\n",
    "\n",
    "    train_set = []\n",
    "    test_set = []\n",
    "    for label, input in [(1, positive), (0, negative)]:\n",
    "        for line in open(input):\n",
    "            ex = Example(label, line.split(), vocab)\n",
    "            if np.random.random() <= train_frac:\n",
    "                train_set.append(ex)\n",
    "            else:\n",
    "                test_set.append(ex)\n",
    "\n",
    "    # Shuffle the data \n",
    "    np.random.shuffle(train_set)\n",
    "    np.random.shuffle(test_set)\n",
    "\n",
    "    return train_set, test_set, vocab"
   ]
  },
  {
   "cell_type": "code",
   "execution_count": 3,
   "metadata": {
    "collapsed": true
   },
   "outputs": [],
   "source": [
    "pos_fname = \"../data/autos_motorcycles/positive\"\n",
    "neg_fname = \"../data/autos_motorcycles/negative\"\n",
    "voc_fname = \"../data/autos_motorcycles/vocab\"\n",
    "train_set, test_set, vocab = read_dataset(pos_fname, neg_fname, voc_fname)"
   ]
  },
  {
   "cell_type": "code",
   "execution_count": 4,
   "metadata": {},
   "outputs": [
    {
     "name": "stdout",
     "output_type": "stream",
     "text": [
      "The length of vocabulary is:  5327\n",
      "The text model being used is a Bag of words Model\n",
      "The Label for motorcycle is: 1 & The Label for Automobile is: 0\n"
     ]
    }
   ],
   "source": [
    "print(\"The length of vocabulary is: \",len(vocab))\n",
    "print(\"The text model being used is a Bag of words Model\")\n",
    "print(\"The Label for motorcycle is: 1 & The Label for Automobile is: 0\")\n"
   ]
  },
  {
   "cell_type": "markdown",
   "metadata": {},
   "source": [
    "### [25 points] Problem 2: Implementing SGD with Lazy Sparse Regularization\n",
    "***\n",
    "\n",
    "We've given you a class `LogReg` below which will train a logistic regression classifier to predict whether a document is talking about automobiles or motorcycles. \n",
    "\n",
    "**Part A**: In this problem you will modify the `sgd_update` function to perform **unregularized** stochastic gradient descent updates of the weights. Note that you should only update the weights for **non-zero** features, i.e. weights associated with words that appear in the current training example. The code below this cell demonstrates how to instantiate the class and train the classifier.   \n",
    "\n",
    "We've also given you unit tests in the next cell based on the simple example worked out in  the Lecture 4 in-class notebook.  At first your code will fail both of them. When your code is working you should pass tests called `test_unreg` and `test_learnrate`.  Do not move on to **Part A** until your code passes both of them. "
   ]
  },
  {
   "cell_type": "code",
   "execution_count": 159,
   "metadata": {},
   "outputs": [],
   "source": [
    "class LogReg:\n",
    "    def __init__(self, train_set, test_set, lam, eta=0.1):\n",
    "        \"\"\"\n",
    "        Create a logistic regression classifier\n",
    "\n",
    "        :param train_set: A set of training examples\n",
    "        :param test_set: A set of test examples \n",
    "        :param lam: Regularization parameter\n",
    "        :param eta: The learning rate to use \n",
    "        \"\"\"\n",
    "        \n",
    "        # Store training and test sets \n",
    "        self.train_set = train_set\n",
    "        self.test_set = test_set \n",
    "        \n",
    "        # Initialize vector of weights to zero  \n",
    "        self.w = np.zeros_like(train_set[0].x)\n",
    "        \n",
    "        # Store regularization parameter and eta function \n",
    "        self.lam = lam\n",
    "        self.eta = eta\n",
    "        \n",
    "        # Create dictionary for lazy-sparse regularization\n",
    "        self.last_update = dict()\n",
    "\n",
    "        # Make sure regularization parameter is not negative \n",
    "        assert self.lam>= 0, \"Regularization parameter must be non-negative\"\n",
    "        \n",
    "        # Empty lists to store NLL and accuracy on train and test sets \n",
    "        self.train_nll = []\n",
    "        self.test_nll = []\n",
    "        self.train_acc = []\n",
    "        self.test_acc = []\n",
    "    \n",
    "        \n",
    "    def sigmoid(self,score, threshold=20.0):\n",
    "        \"\"\"\n",
    "        Prevent overflow of exp by capping activation at 20.\n",
    "        You do not need to change this function. \n",
    "\n",
    "        :param score: A real valued number to convert into a number between 0 and 1\n",
    "        \"\"\"\n",
    "\n",
    "        # if score > threshold, cap value at score \n",
    "        if abs(score) > threshold:\n",
    "            score = threshold * np.sign(score)\n",
    "\n",
    "        return 1.0 / (1.0 + np.exp(-score)) \n",
    "\n",
    "    def compute_progress(self, examples):\n",
    "        \"\"\"\n",
    "        Given a set of examples, compute the NLL and accuracy\n",
    "        You shouldn't need to change this function. \n",
    "\n",
    "        :param examples: The dataset to score\n",
    "        :return: A tuple of (log probability, accuracy)\n",
    "        \"\"\"\n",
    "\n",
    "        NLL = 0.0\n",
    "        num_correct = 0\n",
    "        for ex in examples:\n",
    "            # compute prob prediction\n",
    "            p = self.sigmoid(self.w.dot(ex.x))\n",
    "            # update negative log likelihood\n",
    "            NLL = NLL - np.log(p) if ex.y==1 else NLL - np.log(1.0-p)\n",
    "            # update number correct \n",
    "            num_correct += 1 if np.floor(p+.5)==ex.y else 0\n",
    "\n",
    "        return NLL, float(num_correct) / float(len(examples))\n",
    "    \n",
    "    def train(self, num_epochs=1, isVerbose=False, report_step=5):\n",
    "        \"\"\"\n",
    "        Train the logistic regression classifier on the training data \n",
    "\n",
    "        :param num_epochs: number of full passes over data to perform \n",
    "        :param isVerbose: boolean indicating whether to print progress\n",
    "        :param report_step: how many iterations between recording progress\n",
    "        \"\"\"\n",
    "        iteration = 0\n",
    "        # Perform an epoch \n",
    "        for pp in range(num_epochs):\n",
    "            # shuffle the data  \n",
    "            np.random.shuffle(self.train_set)\n",
    "            # loop over each training example\n",
    "            for ex in self.train_set:\n",
    "                # perform SGD update of weights \n",
    "                self.sgd_update(ex, iteration)\n",
    "                # record progress \n",
    "                if iteration % report_step == 1:\n",
    "                    train_nll, train_acc = self.compute_progress(self.train_set)\n",
    "                    test_nll, test_acc = self.compute_progress(self.test_set)\n",
    "                    self.train_nll.append(train_nll)\n",
    "                    self.test_nll.append(test_nll)\n",
    "                    self.train_acc.append(train_acc)\n",
    "                    self.test_acc.append(test_acc)\n",
    "                    if isVerbose:\n",
    "                        print(\"Update {: 5d}  TrnNLL {: 8.3f}  TstNLL {: 8.3f}  TrnA {:.3f}  TstA {:.3f}\"\n",
    "                             .format(iteration-1, train_nll, test_nll, train_acc, test_acc))\n",
    "                iteration += 1\n",
    "                \n",
    "    \n",
    "    def sgd_update(self, train_example, iteration):\n",
    "        \"\"\"\n",
    "        Compute a stochastic gradient update to improve the NLL \n",
    "\n",
    "        :param train_example: The example to take the gradient with respect to\n",
    "        :param iteration: The current iteration (an integer)\n",
    "        \"\"\"\n",
    "        # TODO implement LSR updates of weights \n",
    "        self.w = self.w\n",
    "        \n",
    "        x=train_example.x\n",
    "        y=train_example.y\n",
    "        \n",
    "        nz=train_example.nonzero\n",
    "        sig=self.sigmoid(self.w.dot(x))\n",
    "        for i in nz:\n",
    "            if iteration==0: \n",
    "                self.last_update[i]=0\n",
    "            if i not in self.last_update:\n",
    "                self.last_update[i]=0\n",
    "            self.w[i]=self.w[i]-(self.eta*(sig-y)*x[i])\n",
    "            self.w[i]=self.w[i]*np.power((1-2*self.eta*self.lam),(iteration-self.last_update[i]+1))\n",
    "            self.last_update[i]=iteration+1\n",
    "        self.w[0]=self.w[0]-(self.eta*(sig-y))\n",
    "        return self.w\n",
    "    \n",
    "\n",
    "    \n",
    "    def bestmowords(self):\n",
    "        z=[]\n",
    "        zc=np.array(self.w)\n",
    "        for i in range(0,10):\n",
    "            wx= zc==np.amax(zc)\n",
    "            idx=np.where(wx)[0]\n",
    "            #print(idx)\n",
    "            z.append(idx[0])\n",
    "            zc[idx]=0\n",
    "            i=i+1\n",
    "        return z\n",
    "        \n",
    "        \n",
    "    def bestauwords(self):\n",
    "        z1=[]\n",
    "        zc1=np.array(self.w)\n",
    "        for i1 in range(0,10):\n",
    "            idx1=np.where(zc1==np.amin(zc1))[0]\n",
    "            #print(idx)\n",
    "            z1.append(idx1[0])\n",
    "            zc1[idx1]=0\n",
    "            i1=i1+1\n",
    "        return z1\n",
    "    \n",
    "    def badwords(self):\n",
    "        z2=[]\n",
    "        qwe=np.argsort((self.beta))\n",
    "        middle=(len(qwe)-1)/2\n",
    "        for i2 in range(middle-5,middle):\n",
    "            z2.append(i2)\n",
    "        for i3 in range(middle,middle+5):\n",
    "            z2.append(i3)\n",
    "        \n",
    "        return z2"
   ]
  },
  {
   "cell_type": "code",
   "execution_count": 134,
   "metadata": {},
   "outputs": [
    {
     "name": "stdout",
     "output_type": "stream",
     "text": [
      "Update     0  TrnNLL  700.586  TstNLL   79.653  TrnA 0.608  TstA 0.586\n",
      "Update     5  TrnNLL  645.451  TstNLL   75.838  TrnA 0.655  TstA 0.612\n",
      "Update    10  TrnNLL  668.710  TstNLL   77.493  TrnA 0.615  TstA 0.595\n",
      "Update    15  TrnNLL  591.619  TstNLL   68.293  TrnA 0.696  TstA 0.690\n",
      "Update    20  TrnNLL  515.695  TstNLL   61.158  TrnA 0.777  TstA 0.733\n",
      "Update    25  TrnNLL  481.967  TstNLL   57.221  TrnA 0.800  TstA 0.836\n",
      "Update    30  TrnNLL  458.205  TstNLL   54.202  TrnA 0.797  TstA 0.819\n",
      "Update    35  TrnNLL  435.343  TstNLL   51.553  TrnA 0.817  TstA 0.784\n",
      "Update    40  TrnNLL  406.357  TstNLL   47.607  TrnA 0.853  TstA 0.819\n",
      "Update    45  TrnNLL  382.208  TstNLL   43.775  TrnA 0.854  TstA 0.871\n",
      "Update    50  TrnNLL  378.130  TstNLL   43.830  TrnA 0.862  TstA 0.845\n",
      "Update    55  TrnNLL  358.611  TstNLL   43.266  TrnA 0.860  TstA 0.862\n",
      "Update    60  TrnNLL  350.285  TstNLL   42.177  TrnA 0.879  TstA 0.853\n",
      "Update    65  TrnNLL  338.611  TstNLL   41.414  TrnA 0.881  TstA 0.853\n",
      "Update    70  TrnNLL  335.487  TstNLL   42.093  TrnA 0.868  TstA 0.862\n",
      "Update    75  TrnNLL  330.448  TstNLL   42.075  TrnA 0.868  TstA 0.871\n",
      "Update    80  TrnNLL  319.162  TstNLL   38.808  TrnA 0.887  TstA 0.853\n",
      "Update    85  TrnNLL  316.586  TstNLL   36.819  TrnA 0.889  TstA 0.905\n",
      "Update    90  TrnNLL  307.541  TstNLL   35.497  TrnA 0.889  TstA 0.897\n",
      "Update    95  TrnNLL  298.688  TstNLL   34.924  TrnA 0.893  TstA 0.888\n",
      "Update   100  TrnNLL  297.631  TstNLL   34.684  TrnA 0.894  TstA 0.888\n",
      "Update   105  TrnNLL  290.185  TstNLL   33.137  TrnA 0.901  TstA 0.914\n",
      "Update   110  TrnNLL  289.614  TstNLL   33.299  TrnA 0.901  TstA 0.897\n",
      "Update   115  TrnNLL  287.129  TstNLL   34.139  TrnA 0.899  TstA 0.888\n",
      "Update   120  TrnNLL  316.505  TstNLL   37.032  TrnA 0.864  TstA 0.871\n",
      "Update   125  TrnNLL  273.540  TstNLL   31.541  TrnA 0.903  TstA 0.922\n",
      "Update   130  TrnNLL  276.297  TstNLL   33.045  TrnA 0.902  TstA 0.897\n",
      "Update   135  TrnNLL  273.605  TstNLL   33.689  TrnA 0.900  TstA 0.905\n",
      "Update   140  TrnNLL  261.794  TstNLL   31.171  TrnA 0.901  TstA 0.879\n",
      "Update   145  TrnNLL  261.383  TstNLL   30.201  TrnA 0.900  TstA 0.888\n",
      "Update   150  TrnNLL  257.694  TstNLL   29.623  TrnA 0.901  TstA 0.897\n",
      "Update   155  TrnNLL  254.828  TstNLL   29.541  TrnA 0.905  TstA 0.897\n",
      "Update   160  TrnNLL  255.537  TstNLL   29.830  TrnA 0.900  TstA 0.897\n",
      "Update   165  TrnNLL  358.330  TstNLL   52.402  TrnA 0.865  TstA 0.853\n",
      "Update   170  TrnNLL  315.548  TstNLL   46.173  TrnA 0.883  TstA 0.862\n",
      "Update   175  TrnNLL  306.735  TstNLL   45.123  TrnA 0.886  TstA 0.862\n",
      "Update   180  TrnNLL  292.073  TstNLL   43.432  TrnA 0.894  TstA 0.879\n",
      "Update   185  TrnNLL  254.944  TstNLL   33.779  TrnA 0.904  TstA 0.879\n",
      "Update   190  TrnNLL  252.006  TstNLL   32.948  TrnA 0.905  TstA 0.888\n",
      "Update   195  TrnNLL  247.979  TstNLL   35.737  TrnA 0.904  TstA 0.905\n",
      "Update   200  TrnNLL  244.863  TstNLL   35.351  TrnA 0.907  TstA 0.905\n",
      "Update   205  TrnNLL  247.229  TstNLL   35.478  TrnA 0.900  TstA 0.914\n",
      "Update   210  TrnNLL  240.150  TstNLL   34.264  TrnA 0.905  TstA 0.914\n",
      "Update   215  TrnNLL  241.396  TstNLL   28.826  TrnA 0.904  TstA 0.922\n",
      "Update   220  TrnNLL  238.054  TstNLL   28.638  TrnA 0.913  TstA 0.914\n",
      "Update   225  TrnNLL  240.060  TstNLL   29.795  TrnA 0.907  TstA 0.897\n",
      "Update   230  TrnNLL  227.982  TstNLL   28.238  TrnA 0.919  TstA 0.922\n",
      "Update   235  TrnNLL  227.604  TstNLL   28.259  TrnA 0.916  TstA 0.922\n",
      "Update   240  TrnNLL  225.853  TstNLL   27.690  TrnA 0.918  TstA 0.922\n",
      "Update   245  TrnNLL  225.139  TstNLL   27.629  TrnA 0.918  TstA 0.914\n",
      "Update   250  TrnNLL  213.482  TstNLL   29.181  TrnA 0.929  TstA 0.905\n",
      "Update   255  TrnNLL  211.885  TstNLL   29.055  TrnA 0.929  TstA 0.905\n",
      "Update   260  TrnNLL  211.757  TstNLL   27.590  TrnA 0.925  TstA 0.905\n",
      "Update   265  TrnNLL  208.949  TstNLL   27.635  TrnA 0.925  TstA 0.897\n",
      "Update   270  TrnNLL  211.366  TstNLL   27.508  TrnA 0.926  TstA 0.905\n",
      "Update   275  TrnNLL  210.288  TstNLL   27.359  TrnA 0.927  TstA 0.905\n",
      "Update   280  TrnNLL  214.745  TstNLL   27.120  TrnA 0.923  TstA 0.905\n",
      "Update   285  TrnNLL  204.837  TstNLL   26.499  TrnA 0.927  TstA 0.922\n",
      "Update   290  TrnNLL  207.498  TstNLL   26.276  TrnA 0.927  TstA 0.914\n",
      "Update   295  TrnNLL  221.439  TstNLL   26.817  TrnA 0.919  TstA 0.905\n",
      "Update   300  TrnNLL  207.371  TstNLL   25.455  TrnA 0.926  TstA 0.914\n",
      "Update   305  TrnNLL  188.437  TstNLL   25.352  TrnA 0.930  TstA 0.914\n",
      "Update   310  TrnNLL  189.036  TstNLL   24.922  TrnA 0.933  TstA 0.931\n",
      "Update   315  TrnNLL  186.841  TstNLL   25.348  TrnA 0.936  TstA 0.922\n",
      "Update   320  TrnNLL  185.405  TstNLL   24.802  TrnA 0.934  TstA 0.940\n",
      "Update   325  TrnNLL  182.927  TstNLL   24.943  TrnA 0.936  TstA 0.922\n",
      "Update   330  TrnNLL  182.521  TstNLL   24.919  TrnA 0.936  TstA 0.940\n",
      "Update   335  TrnNLL  182.040  TstNLL   24.422  TrnA 0.934  TstA 0.931\n",
      "Update   340  TrnNLL  182.306  TstNLL   24.230  TrnA 0.932  TstA 0.931\n",
      "Update   345  TrnNLL  182.871  TstNLL   24.408  TrnA 0.934  TstA 0.922\n",
      "Update   350  TrnNLL  182.566  TstNLL   24.440  TrnA 0.932  TstA 0.922\n",
      "Update   355  TrnNLL  181.825  TstNLL   24.218  TrnA 0.934  TstA 0.922\n",
      "Update   360  TrnNLL  179.963  TstNLL   23.847  TrnA 0.936  TstA 0.922\n",
      "Update   365  TrnNLL  183.479  TstNLL   23.843  TrnA 0.931  TstA 0.914\n",
      "Update   370  TrnNLL  171.698  TstNLL   22.211  TrnA 0.936  TstA 0.922\n",
      "Update   375  TrnNLL  167.477  TstNLL   22.550  TrnA 0.938  TstA 0.931\n",
      "Update   380  TrnNLL  178.350  TstNLL   20.352  TrnA 0.935  TstA 0.922\n",
      "Update   385  TrnNLL  171.579  TstNLL   19.536  TrnA 0.937  TstA 0.940\n",
      "Update   390  TrnNLL  169.543  TstNLL   19.416  TrnA 0.937  TstA 0.957\n",
      "Update   395  TrnNLL  172.012  TstNLL   19.643  TrnA 0.937  TstA 0.922\n",
      "Update   400  TrnNLL  180.456  TstNLL   20.631  TrnA 0.932  TstA 0.922\n",
      "Update   405  TrnNLL  183.901  TstNLL   21.115  TrnA 0.930  TstA 0.922\n",
      "Update   410  TrnNLL  169.584  TstNLL   22.763  TrnA 0.937  TstA 0.931\n",
      "Update   415  TrnNLL  181.086  TstNLL   26.207  TrnA 0.936  TstA 0.914\n",
      "Update   420  TrnNLL  172.304  TstNLL   24.339  TrnA 0.935  TstA 0.922\n",
      "Update   425  TrnNLL  178.975  TstNLL   26.243  TrnA 0.933  TstA 0.905\n",
      "Update   430  TrnNLL  178.872  TstNLL   26.436  TrnA 0.933  TstA 0.905\n",
      "Update   435  TrnNLL  179.088  TstNLL   26.718  TrnA 0.935  TstA 0.914\n",
      "Update   440  TrnNLL  183.330  TstNLL   27.742  TrnA 0.935  TstA 0.914\n",
      "Update   445  TrnNLL  180.944  TstNLL   26.026  TrnA 0.936  TstA 0.922\n",
      "Update   450  TrnNLL  187.053  TstNLL   27.729  TrnA 0.934  TstA 0.922\n",
      "Update   455  TrnNLL  166.207  TstNLL   23.681  TrnA 0.942  TstA 0.922\n",
      "Update   460  TrnNLL  158.722  TstNLL   22.205  TrnA 0.941  TstA 0.940\n",
      "Update   465  TrnNLL  163.151  TstNLL   23.532  TrnA 0.942  TstA 0.922\n",
      "Update   470  TrnNLL  154.578  TstNLL   22.000  TrnA 0.941  TstA 0.940\n",
      "Update   475  TrnNLL  163.007  TstNLL   25.987  TrnA 0.942  TstA 0.914\n",
      "Update   480  TrnNLL  166.112  TstNLL   26.811  TrnA 0.941  TstA 0.914\n",
      "Update   485  TrnNLL  168.218  TstNLL   27.350  TrnA 0.944  TstA 0.914\n",
      "Update   490  TrnNLL  139.711  TstNLL   21.431  TrnA 0.951  TstA 0.948\n",
      "Update   495  TrnNLL  138.345  TstNLL   21.030  TrnA 0.952  TstA 0.948\n",
      "Update   500  TrnNLL  137.156  TstNLL   20.805  TrnA 0.953  TstA 0.948\n",
      "Update   505  TrnNLL  132.418  TstNLL   19.741  TrnA 0.953  TstA 0.940\n",
      "Update   510  TrnNLL  131.417  TstNLL   19.308  TrnA 0.955  TstA 0.940\n",
      "Update   515  TrnNLL  131.057  TstNLL   18.822  TrnA 0.956  TstA 0.948\n",
      "Update   520  TrnNLL  127.231  TstNLL   19.013  TrnA 0.958  TstA 0.948\n",
      "Update   525  TrnNLL  126.730  TstNLL   19.275  TrnA 0.959  TstA 0.948\n",
      "Update   530  TrnNLL  125.831  TstNLL   19.393  TrnA 0.958  TstA 0.940\n",
      "Update   535  TrnNLL  126.684  TstNLL   19.032  TrnA 0.957  TstA 0.940\n",
      "Update   540  TrnNLL  125.542  TstNLL   18.851  TrnA 0.961  TstA 0.948\n",
      "Update   545  TrnNLL  125.146  TstNLL   18.831  TrnA 0.963  TstA 0.940\n",
      "Update   550  TrnNLL  123.315  TstNLL   18.580  TrnA 0.961  TstA 0.940\n",
      "Update   555  TrnNLL  123.189  TstNLL   18.422  TrnA 0.960  TstA 0.940\n",
      "Update   560  TrnNLL  128.249  TstNLL   22.092  TrnA 0.958  TstA 0.931\n",
      "Update   565  TrnNLL  121.390  TstNLL   19.729  TrnA 0.960  TstA 0.940\n",
      "Update   570  TrnNLL  121.550  TstNLL   19.808  TrnA 0.960  TstA 0.940\n",
      "Update   575  TrnNLL  124.409  TstNLL   21.415  TrnA 0.962  TstA 0.931\n",
      "Update   580  TrnNLL  130.248  TstNLL   23.135  TrnA 0.957  TstA 0.931\n",
      "Update   585  TrnNLL  120.684  TstNLL   19.227  TrnA 0.961  TstA 0.940\n",
      "Update   590  TrnNLL  121.333  TstNLL   19.534  TrnA 0.963  TstA 0.940\n",
      "Update   595  TrnNLL  121.593  TstNLL   18.522  TrnA 0.962  TstA 0.948\n",
      "Update   600  TrnNLL  124.607  TstNLL   20.985  TrnA 0.964  TstA 0.931\n",
      "Update   605  TrnNLL  118.914  TstNLL   19.801  TrnA 0.968  TstA 0.940\n",
      "Update   610  TrnNLL  117.674  TstNLL   19.421  TrnA 0.967  TstA 0.940\n",
      "Update   615  TrnNLL  116.515  TstNLL   18.483  TrnA 0.964  TstA 0.948\n"
     ]
    },
    {
     "name": "stdout",
     "output_type": "stream",
     "text": [
      "Update   620  TrnNLL  117.846  TstNLL   17.245  TrnA 0.958  TstA 0.948\n",
      "Update   625  TrnNLL  116.958  TstNLL   17.205  TrnA 0.961  TstA 0.948\n",
      "Update   630  TrnNLL  115.375  TstNLL   16.196  TrnA 0.959  TstA 0.966\n",
      "Update   635  TrnNLL  112.811  TstNLL   18.034  TrnA 0.967  TstA 0.948\n",
      "Update   640  TrnNLL  110.915  TstNLL   18.168  TrnA 0.966  TstA 0.957\n",
      "Update   645  TrnNLL  110.372  TstNLL   18.565  TrnA 0.968  TstA 0.948\n",
      "Update   650  TrnNLL  109.409  TstNLL   17.897  TrnA 0.967  TstA 0.957\n",
      "Update   655  TrnNLL  109.240  TstNLL   17.586  TrnA 0.966  TstA 0.957\n",
      "Update   660  TrnNLL  109.284  TstNLL   17.549  TrnA 0.967  TstA 0.957\n",
      "Update   665  TrnNLL  108.748  TstNLL   17.229  TrnA 0.965  TstA 0.966\n",
      "Update   670  TrnNLL  112.170  TstNLL   17.608  TrnA 0.965  TstA 0.966\n",
      "Update   675  TrnNLL  108.031  TstNLL   17.314  TrnA 0.967  TstA 0.966\n",
      "Update   680  TrnNLL  107.184  TstNLL   18.762  TrnA 0.972  TstA 0.948\n",
      "Update   685  TrnNLL  106.946  TstNLL   18.759  TrnA 0.972  TstA 0.948\n",
      "Update   690  TrnNLL  105.535  TstNLL   18.020  TrnA 0.970  TstA 0.948\n",
      "Update   695  TrnNLL  105.570  TstNLL   18.062  TrnA 0.970  TstA 0.948\n",
      "Update   700  TrnNLL  105.288  TstNLL   17.660  TrnA 0.967  TstA 0.957\n",
      "Update   705  TrnNLL  104.999  TstNLL   17.756  TrnA 0.969  TstA 0.948\n",
      "Update   710  TrnNLL  104.617  TstNLL   18.942  TrnA 0.970  TstA 0.948\n",
      "Update   715  TrnNLL  103.723  TstNLL   18.684  TrnA 0.971  TstA 0.948\n",
      "Update   720  TrnNLL  102.801  TstNLL   17.912  TrnA 0.973  TstA 0.948\n",
      "Update   725  TrnNLL  102.879  TstNLL   17.940  TrnA 0.973  TstA 0.948\n",
      "Update   730  TrnNLL  102.660  TstNLL   18.005  TrnA 0.973  TstA 0.948\n",
      "Update   735  TrnNLL  102.620  TstNLL   17.987  TrnA 0.973  TstA 0.948\n",
      "Update   740  TrnNLL  103.032  TstNLL   19.145  TrnA 0.971  TstA 0.948\n",
      "Update   745  TrnNLL  101.323  TstNLL   18.364  TrnA 0.975  TstA 0.948\n",
      "Update   750  TrnNLL  100.399  TstNLL   17.932  TrnA 0.975  TstA 0.957\n",
      "Update   755  TrnNLL   99.200  TstNLL   18.427  TrnA 0.974  TstA 0.948\n",
      "Update   760  TrnNLL   98.311  TstNLL   16.953  TrnA 0.975  TstA 0.957\n",
      "Update   765  TrnNLL   98.031  TstNLL   17.016  TrnA 0.976  TstA 0.957\n",
      "Update   770  TrnNLL   96.559  TstNLL   17.136  TrnA 0.977  TstA 0.948\n",
      "Update   775  TrnNLL   96.480  TstNLL   17.171  TrnA 0.977  TstA 0.948\n",
      "Update   780  TrnNLL   96.660  TstNLL   16.266  TrnA 0.977  TstA 0.957\n",
      "Update   785  TrnNLL   96.658  TstNLL   16.045  TrnA 0.976  TstA 0.957\n",
      "Update   790  TrnNLL   94.383  TstNLL   16.305  TrnA 0.979  TstA 0.957\n",
      "Update   795  TrnNLL   96.617  TstNLL   15.825  TrnA 0.975  TstA 0.957\n",
      "Update   800  TrnNLL  101.057  TstNLL   15.872  TrnA 0.973  TstA 0.957\n",
      "Update   805  TrnNLL   97.006  TstNLL   16.080  TrnA 0.977  TstA 0.957\n",
      "Update   810  TrnNLL   92.080  TstNLL   15.956  TrnA 0.979  TstA 0.957\n",
      "Update   815  TrnNLL   92.054  TstNLL   15.958  TrnA 0.979  TstA 0.957\n",
      "Update   820  TrnNLL   93.092  TstNLL   15.856  TrnA 0.977  TstA 0.957\n",
      "Update   825  TrnNLL   91.092  TstNLL   15.839  TrnA 0.979  TstA 0.957\n",
      "Update   830  TrnNLL   88.750  TstNLL   16.138  TrnA 0.980  TstA 0.957\n",
      "Update   835  TrnNLL   85.194  TstNLL   16.723  TrnA 0.980  TstA 0.957\n",
      "Update   840  TrnNLL   85.178  TstNLL   16.737  TrnA 0.980  TstA 0.957\n",
      "Update   845  TrnNLL   85.113  TstNLL   16.370  TrnA 0.980  TstA 0.957\n",
      "Update   850  TrnNLL   85.394  TstNLL   16.087  TrnA 0.980  TstA 0.957\n",
      "Update   855  TrnNLL   85.236  TstNLL   16.498  TrnA 0.980  TstA 0.957\n",
      "Update   860  TrnNLL   87.201  TstNLL   15.956  TrnA 0.979  TstA 0.957\n",
      "Update   865  TrnNLL   85.972  TstNLL   15.934  TrnA 0.978  TstA 0.957\n",
      "Update   870  TrnNLL   84.179  TstNLL   19.196  TrnA 0.982  TstA 0.940\n",
      "Update   875  TrnNLL   84.377  TstNLL   19.423  TrnA 0.983  TstA 0.940\n",
      "Update   880  TrnNLL   92.990  TstNLL   14.388  TrnA 0.972  TstA 0.957\n",
      "Update   885  TrnNLL   87.962  TstNLL   14.251  TrnA 0.976  TstA 0.948\n",
      "Update   890  TrnNLL   91.931  TstNLL   14.844  TrnA 0.973  TstA 0.957\n",
      "Update   895  TrnNLL   92.792  TstNLL   14.927  TrnA 0.973  TstA 0.957\n",
      "Update   900  TrnNLL   92.084  TstNLL   14.840  TrnA 0.973  TstA 0.957\n",
      "Update   905  TrnNLL   89.768  TstNLL   14.565  TrnA 0.974  TstA 0.948\n",
      "Update   910  TrnNLL   86.499  TstNLL   14.461  TrnA 0.975  TstA 0.948\n",
      "Update   915  TrnNLL   85.684  TstNLL   14.363  TrnA 0.976  TstA 0.948\n",
      "Update   920  TrnNLL   85.630  TstNLL   14.484  TrnA 0.976  TstA 0.948\n",
      "Update   925  TrnNLL   90.321  TstNLL   14.647  TrnA 0.973  TstA 0.957\n",
      "Update   930  TrnNLL   97.164  TstNLL   16.111  TrnA 0.970  TstA 0.957\n",
      "Update   935  TrnNLL   92.186  TstNLL   15.518  TrnA 0.972  TstA 0.957\n",
      "Update   940  TrnNLL   70.593  TstNLL   13.053  TrnA 0.986  TstA 0.974\n",
      "Update   945  TrnNLL  102.053  TstNLL   23.721  TrnA 0.967  TstA 0.931\n",
      "Update   950  TrnNLL  100.793  TstNLL   23.562  TrnA 0.968  TstA 0.931\n",
      "Update   955  TrnNLL   92.708  TstNLL   21.786  TrnA 0.973  TstA 0.940\n",
      "Update   960  TrnNLL   82.916  TstNLL   20.237  TrnA 0.979  TstA 0.948\n",
      "Update   965  TrnNLL   84.239  TstNLL   20.555  TrnA 0.978  TstA 0.948\n",
      "Update   970  TrnNLL   87.694  TstNLL   21.051  TrnA 0.974  TstA 0.948\n",
      "Update   975  TrnNLL   88.409  TstNLL   21.205  TrnA 0.974  TstA 0.940\n",
      "Update   980  TrnNLL   84.842  TstNLL   20.653  TrnA 0.977  TstA 0.948\n",
      "Update   985  TrnNLL   78.919  TstNLL   19.152  TrnA 0.980  TstA 0.948\n",
      "Update   990  TrnNLL   69.205  TstNLL   17.129  TrnA 0.986  TstA 0.940\n",
      "Update   995  TrnNLL   65.125  TstNLL   17.036  TrnA 0.982  TstA 0.940\n",
      "Update  1000  TrnNLL   64.387  TstNLL   17.911  TrnA 0.982  TstA 0.922\n",
      "Update  1005  TrnNLL   64.195  TstNLL   17.867  TrnA 0.983  TstA 0.922\n",
      "Update  1010  TrnNLL   67.182  TstNLL   18.552  TrnA 0.980  TstA 0.922\n",
      "Update  1015  TrnNLL   65.010  TstNLL   18.354  TrnA 0.983  TstA 0.905\n",
      "Update  1020  TrnNLL   65.475  TstNLL   18.133  TrnA 0.982  TstA 0.922\n",
      "Update  1025  TrnNLL   65.202  TstNLL   17.937  TrnA 0.982  TstA 0.922\n",
      "Update  1030  TrnNLL   63.874  TstNLL   17.778  TrnA 0.983  TstA 0.931\n",
      "Update  1035  TrnNLL   60.691  TstNLL   17.060  TrnA 0.985  TstA 0.931\n",
      "Update  1040  TrnNLL   60.909  TstNLL   16.933  TrnA 0.983  TstA 0.931\n",
      "Update  1045  TrnNLL   61.826  TstNLL   17.340  TrnA 0.985  TstA 0.922\n",
      "Update  1050  TrnNLL   62.774  TstNLL   17.904  TrnA 0.985  TstA 0.914\n",
      "Update  1055  TrnNLL   63.636  TstNLL   18.163  TrnA 0.985  TstA 0.914\n",
      "Update  1060  TrnNLL   61.136  TstNLL   17.772  TrnA 0.984  TstA 0.931\n",
      "Update  1065  TrnNLL   61.178  TstNLL   17.779  TrnA 0.984  TstA 0.931\n",
      "Update  1070  TrnNLL   52.392  TstNLL   16.403  TrnA 0.989  TstA 0.931\n"
     ]
    }
   ],
   "source": [
    "lr = LogReg(train_set, test_set, lam=0, eta=0.1)\n",
    "lr.train(isVerbose=True)"
   ]
  },
  {
   "cell_type": "markdown",
   "metadata": {},
   "source": [
    "The unit tests are located in the script `tests.py` in this directory.  Execute the following cell to call the script and run the tests. "
   ]
  },
  {
   "cell_type": "code",
   "execution_count": 78,
   "metadata": {},
   "outputs": [
    {
     "name": "stderr",
     "output_type": "stream",
     "text": [
      "test_unreg (__main__.TestLogReg) ... ok\n",
      "test_learnrate (__main__.TestLogReg) ... "
     ]
    },
    {
     "name": "stdout",
     "output_type": "stream",
     "text": [
      "[ 0.5  2.   1.5  0.5  0. ]\n",
      "[-0.49330715  2.         -0.4866143  -2.47992145 -0.99330715]\n",
      "[ 0.25  1.    0.75  0.25  0.  ]\n",
      "[-0.21207091  1.         -0.17414182 -1.13621273 -0.46207091]\n"
     ]
    },
    {
     "name": "stderr",
     "output_type": "stream",
     "text": [
      "ok\n",
      "\n",
      "----------------------------------------------------------------------\n",
      "Ran 2 tests in 0.009s\n",
      "\n",
      "OK\n"
     ]
    }
   ],
   "source": [
    "%run -i tests.py \"part A\""
   ]
  },
  {
   "cell_type": "markdown",
   "metadata": {},
   "source": [
    "**Part B**: After your unregularized updates are working, modify the `sgd_update` function again to perform regularized updates using **Lazy Sparse Regularization**. Note that you should not regularize the bias weight. See the Lecture 4 in-class notebook for a refresher on LSR. **Note**: After implementing LSR, your code should still pass the unit tests for **Part A** when `lam = 0`. \n",
    "\n",
    "We've given you a third unit test in the next cell called `test_reg` based on the simple example of LSR worked out in  the Lecture 4 in-class notebook.  Do not move on to **Problem 3** until your code passes the test. "
   ]
  },
  {
   "cell_type": "code",
   "execution_count": 79,
   "metadata": {},
   "outputs": [
    {
     "name": "stderr",
     "output_type": "stream",
     "text": [
      "test_reg (__main__.TestLogReg) ... "
     ]
    },
    {
     "name": "stdout",
     "output_type": "stream",
     "text": [
      "[ 0.5   1.    0.75  0.25  0.  ]\n",
      "[-0.43991335  1.         -0.56491335 -1.28487002 -0.23497834]\n"
     ]
    },
    {
     "name": "stderr",
     "output_type": "stream",
     "text": [
      "ok\n",
      "\n",
      "----------------------------------------------------------------------\n",
      "Ran 1 test in 0.004s\n",
      "\n",
      "OK\n"
     ]
    }
   ],
   "source": [
    "%run -i tests.py \"part B\""
   ]
  },
  {
   "cell_type": "markdown",
   "metadata": {},
   "source": [
    "### [10 points] Problem 3: Hyperparameter Tuning \n",
    "***\n",
    "\n",
    "**Part A**: Perform a systematic study of the effect of the regularization parameter on the accuracy of your classifier on the test set.  Which choice of `lam` seems to do the best?  Justify your conclusion with some kind of graphic. "
   ]
  },
  {
   "cell_type": "code",
   "execution_count": 24,
   "metadata": {},
   "outputs": [
    {
     "data": {
      "text/plain": [
       "[<matplotlib.lines.Line2D at 0x10c31b390>]"
      ]
     },
     "execution_count": 24,
     "metadata": {},
     "output_type": "execute_result"
    },
    {
     "data": {
      "image/png": "[encoded data removed]",
      "text/plain": [
       "<matplotlib.figure.Figure at 0x10bfda198>"
      ]
     },
     "metadata": {},
     "output_type": "display_data"
    }
   ],
   "source": [
    "o=[]\n",
    "v=np.linspace(0,.01,10)\n",
    "for i in v:\n",
    "    lr = LogReg(train_set, test_set, lam=i, eta=0.11)\n",
    "    lr.train()\n",
    "    o.append(lr.test_acc[-1])\n",
    "    #print(\"The regularization parameter is: \",i, \"Accuracy is: \",lr.test_acc[-1])\n",
    "plt.plot(v,o)"
   ]
  },
  {
   "cell_type": "markdown",
   "metadata": {},
   "source": [
    "From the above illustration of the graph between regularization parameter and the accuracy of the classifier. We can say that for different values of regularization parameter we will arrive at different accuracy for the classifieir. So from above graph we can conclude the maximum accuracy of the classifier is achieved at regularization parameter 0. "
   ]
  },
  {
   "cell_type": "markdown",
   "metadata": {},
   "source": [
    "**Part B**: For the value of `lam` chosen in **Part A** perform a systematic study of the choice of learning rate on the speed of convergence SGD.  Which learning rate seems to give the fastest convergence?  Justify your conclusion with some kind of graphic. "
   ]
  },
  {
   "cell_type": "code",
   "execution_count": 28,
   "metadata": {},
   "outputs": [
    {
     "ename": "AttributeError",
     "evalue": "'numpy.float64' object has no attribute 'append'",
     "output_type": "error",
     "traceback": [
      "\u001b[0;31m---------------------------------------------------------------------------\u001b[0m",
      "\u001b[0;31mAttributeError\u001b[0m                            Traceback (most recent call last)",
      "\u001b[0;32m~/studies/machinelearning/CSCI5622-Machine-Learning/hmwk/logreg/tests.py\u001b[0m in \u001b[0;36m<module>\u001b[0;34m()\u001b[0m\n\u001b[1;32m     15\u001b[0m                 \u001b[0mtrain_nl\u001b[0m\u001b[0;34m,\u001b[0m \u001b[0mtrain_ac\u001b[0m \u001b[0;34m=\u001b[0m \u001b[0mlg\u001b[0m\u001b[0;34m.\u001b[0m\u001b[0mcompute_progress\u001b[0m\u001b[0;34m(\u001b[0m\u001b[0mtrain_set\u001b[0m\u001b[0;34m)\u001b[0m\u001b[0;34m\u001b[0m\u001b[0m\n\u001b[1;32m     16\u001b[0m                 \u001b[0mtest_nl\u001b[0m\u001b[0;34m,\u001b[0m \u001b[0mtest_ac\u001b[0m \u001b[0;34m=\u001b[0m \u001b[0mlg\u001b[0m\u001b[0;34m.\u001b[0m\u001b[0mcompute_progress\u001b[0m\u001b[0;34m(\u001b[0m\u001b[0mtest_set\u001b[0m\u001b[0;34m)\u001b[0m\u001b[0;34m\u001b[0m\u001b[0m\n\u001b[0;32m---> 17\u001b[0;31m                 \u001b[0mtrain_nl\u001b[0m\u001b[0;34m.\u001b[0m\u001b[0mappend\u001b[0m\u001b[0;34m(\u001b[0m\u001b[0mtrain_nl\u001b[0m\u001b[0;34m)\u001b[0m\u001b[0;34m\u001b[0m\u001b[0m\n\u001b[0m\u001b[1;32m     18\u001b[0m                 \u001b[0mtest_nl\u001b[0m\u001b[0;34m.\u001b[0m\u001b[0mappend\u001b[0m\u001b[0;34m(\u001b[0m\u001b[0mtest_nl\u001b[0m\u001b[0;34m)\u001b[0m\u001b[0;34m\u001b[0m\u001b[0m\n\u001b[1;32m     19\u001b[0m                 \u001b[0mtrain_ac\u001b[0m\u001b[0;34m.\u001b[0m\u001b[0mappend\u001b[0m\u001b[0;34m(\u001b[0m\u001b[0mtrain_ac\u001b[0m\u001b[0;34m)\u001b[0m\u001b[0;34m\u001b[0m\u001b[0m\n",
      "\u001b[0;31mAttributeError\u001b[0m: 'numpy.float64' object has no attribute 'append'"
     ]
    }
   ],
   "source": [
    "lra=[]\n",
    "it=[]\n",
    "iteration=0\n",
    "report_step=200\n",
    "num_epochs=5\n",
    "v=np.linspace(0.01,.05,5)\n",
    "for i in v:\n",
    "    lg = LogReg(train_set, test_set, lam=0.001, eta=i)\n",
    "    #lra.append(i)\n",
    "    for pp in range(num_epochs):\n",
    "        np.random.shuffle(train_set)\n",
    "        for ex in train_set:\n",
    "            lg.sgd_update(ex, iteration)\n",
    "            if iteration % report_step == 1:\n",
    "                train_nl, train_ac = self.compute_progress(self.train_set)\n",
    "                test_nl, test_ac = self.compute_progress(self.test_set)\n",
    "                train_nl.append(train_nl)\n",
    "                test_nl.append(test_nl)\n",
    "                train_ac.append(train_ac)\n",
    "                self.test_acc.append(test_acc)\n",
    "                lra.append(train_nl)\n",
    "                it.append(iteration-1)\n",
    "            iteration += 1\n",
    "#print(it)\n",
    "#print(v)\n",
    "#plt.plot(it,lra)"
   ]
  },
  {
   "cell_type": "markdown",
   "metadata": {},
   "source": [
    "The learning rate has an effect on speed of convergence of SGD. If the learning rate is  too small it will take a way long to optimal solution and if the learning rate is too large will miss the optimal solution.  "
   ]
  },
  {
   "cell_type": "markdown",
   "metadata": {},
   "source": [
    "### [10 points] Problem 4: Identifying Predictive and Non-Predictive Words \n",
    "***\n",
    "\n",
    "**Part A**: Find the top 10 words that are the best predictors for each class.  Explain mathematically how you identified them and show any code that you used to find them. "
   ]
  },
  {
   "cell_type": "code",
   "execution_count": 143,
   "metadata": {},
   "outputs": [
    {
     "name": "stdout",
     "output_type": "stream",
     "text": [
      "Motorcycle: \n",
      "['dod', 'bike', 'mm', 'ca', 'bikes', 'rider', 'ride', 'riding', 'shaft', 'sun']\n",
      "Automobile: \n",
      "['road', 'car', 'course', 'cars', 'four', 'wheel', 'participants', 'points', 'BIAS_CONSTANT', 'set']\n"
     ]
    }
   ],
   "source": [
    "lr = LogReg(train_set, test_set, lam=0.01, eta=0.1)\n",
    "lr.train()\n",
    "om=[]\n",
    "print(\"Motorcycle: \")\n",
    "mo=lr.bestmowords()\n",
    "for i in mo:\n",
    "    om.append(vocab[i])\n",
    "print(om)\n",
    "\n",
    "oa=[]\n",
    "print(\"Automobile: \")\n",
    "au=lr.bestauwords()\n",
    "for i in au:\n",
    "    oa.append(vocab[i])\n",
    "print(oa)"
   ]
  },
  {
   "cell_type": "markdown",
   "metadata": {},
   "source": [
    "**Part B**: Find the 10 words that are the worst predictors for class.  Explain mathematically how you identified them and show any code that you used to find them. "
   ]
  },
  {
   "cell_type": "code",
   "execution_count": 160,
   "metadata": {},
   "outputs": [
    {
     "name": "stdout",
     "output_type": "stream",
     "text": [
      "Worst: \n"
     ]
    },
    {
     "ename": "NameError",
     "evalue": "name 'argsort' is not defined",
     "output_type": "error",
     "traceback": [
      "\u001b[0;31m---------------------------------------------------------------------------\u001b[0m",
      "\u001b[0;31mNameError\u001b[0m                                 Traceback (most recent call last)",
      "\u001b[0;32m~/studies/machinelearning/CSCI5622-Machine-Learning/hmwk/logreg/tests.py\u001b[0m in \u001b[0;36m<module>\u001b[0;34m()\u001b[0m\n\u001b[1;32m      3\u001b[0m \u001b[0mow\u001b[0m\u001b[0;34m=\u001b[0m\u001b[0;34m[\u001b[0m\u001b[0;34m]\u001b[0m\u001b[0;34m\u001b[0m\u001b[0m\n\u001b[1;32m      4\u001b[0m \u001b[0mprint\u001b[0m\u001b[0;34m(\u001b[0m\u001b[0;34m\"Worst: \"\u001b[0m\u001b[0;34m)\u001b[0m\u001b[0;34m\u001b[0m\u001b[0m\n\u001b[0;32m----> 5\u001b[0;31m \u001b[0mbad\u001b[0m \u001b[0;34m=\u001b[0m \u001b[0mlr\u001b[0m\u001b[0;34m.\u001b[0m\u001b[0mbadwords\u001b[0m\u001b[0;34m(\u001b[0m\u001b[0;34m)\u001b[0m\u001b[0;34m\u001b[0m\u001b[0m\n\u001b[0m\u001b[1;32m      6\u001b[0m \u001b[0;32mfor\u001b[0m \u001b[0mi\u001b[0m \u001b[0;32min\u001b[0m \u001b[0mbad\u001b[0m\u001b[0;34m:\u001b[0m\u001b[0;34m\u001b[0m\u001b[0m\n\u001b[1;32m      7\u001b[0m     \u001b[0mow\u001b[0m\u001b[0;34m.\u001b[0m\u001b[0mappend\u001b[0m\u001b[0;34m(\u001b[0m\u001b[0mvocab\u001b[0m\u001b[0;34m[\u001b[0m\u001b[0mi\u001b[0m\u001b[0;34m]\u001b[0m\u001b[0;34m)\u001b[0m\u001b[0;34m\u001b[0m\u001b[0m\n",
      "\u001b[0;32m~/studies/machinelearning/CSCI5622-Machine-Learning/hmwk/logreg/tests.py\u001b[0m in \u001b[0;36mbadwords\u001b[0;34m(self)\u001b[0m\n\u001b[1;32m    154\u001b[0m     \u001b[0;32mdef\u001b[0m \u001b[0mbadwords\u001b[0m\u001b[0;34m(\u001b[0m\u001b[0mself\u001b[0m\u001b[0;34m)\u001b[0m\u001b[0;34m:\u001b[0m\u001b[0;34m\u001b[0m\u001b[0m\n\u001b[1;32m    155\u001b[0m         \u001b[0mz2\u001b[0m\u001b[0;34m=\u001b[0m\u001b[0;34m[\u001b[0m\u001b[0;34m]\u001b[0m\u001b[0;34m\u001b[0m\u001b[0m\n\u001b[0;32m--> 156\u001b[0;31m         \u001b[0mqwe\u001b[0m\u001b[0;34m=\u001b[0m\u001b[0margsort\u001b[0m\u001b[0;34m(\u001b[0m\u001b[0;34m(\u001b[0m\u001b[0mself\u001b[0m\u001b[0;34m.\u001b[0m\u001b[0mbeta\u001b[0m\u001b[0;34m)\u001b[0m\u001b[0;34m)\u001b[0m\u001b[0;34m\u001b[0m\u001b[0m\n\u001b[0m\u001b[1;32m    157\u001b[0m         \u001b[0mmiddle\u001b[0m\u001b[0;34m=\u001b[0m\u001b[0;34m(\u001b[0m\u001b[0mlen\u001b[0m\u001b[0;34m(\u001b[0m\u001b[0mqwe\u001b[0m\u001b[0;34m)\u001b[0m\u001b[0;34m-\u001b[0m\u001b[0;36m1\u001b[0m\u001b[0;34m)\u001b[0m\u001b[0;34m/\u001b[0m\u001b[0;36m2\u001b[0m\u001b[0;34m\u001b[0m\u001b[0m\n\u001b[1;32m    158\u001b[0m         \u001b[0;32mfor\u001b[0m \u001b[0mi2\u001b[0m \u001b[0;32min\u001b[0m \u001b[0mrange\u001b[0m\u001b[0;34m(\u001b[0m\u001b[0mmiddle\u001b[0m\u001b[0;34m-\u001b[0m\u001b[0;36m5\u001b[0m\u001b[0;34m,\u001b[0m\u001b[0mmiddle\u001b[0m\u001b[0;34m)\u001b[0m\u001b[0;34m:\u001b[0m\u001b[0;34m\u001b[0m\u001b[0m\n",
      "\u001b[0;31mNameError\u001b[0m: name 'argsort' is not defined"
     ]
    }
   ],
   "source": [
    "lr = LogReg(train_set, test_set, lam=0.01, eta=0.1)\n",
    "lr.train()\n",
    "ow=[]\n",
    "print(\"Worst: \")\n",
    "bad = lr.badwords()\n",
    "for i in bad:\n",
    "    ow.append(vocab[i])\n",
    "print(ow)"
   ]
  },
  {
   "cell_type": "code",
   "execution_count": null,
   "metadata": {
    "collapsed": true
   },
   "outputs": [],
   "source": []
  }
 ],
 "metadata": {
  "kernelspec": {
   "display_name": "Python 3",
   "language": "python",
   "name": "python3"
  },
  "language_info": {
   "codemirror_mode": {
    "name": "ipython",
    "version": 3
   },
   "file_extension": ".py",
   "mimetype": "text/x-python",
   "name": "python",
   "nbconvert_exporter": "python",
   "pygments_lexer": "ipython3",
   "version": "3.6.3"
  }
 },
 "nbformat": 4,
 "nbformat_minor": 2
}
